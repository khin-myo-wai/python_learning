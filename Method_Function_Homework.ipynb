{
 "cells": [
  {
   "cell_type": "code",
   "execution_count": 10,
   "metadata": {},
   "outputs": [],
   "source": [
    "employee_work_hours = [('Billy',200),('Honey',800),('Smith',600)]\n",
    "def work_hour(employee_work_hours):\n",
    "   print('Testing')\n",
    "   current_hour = 0\n",
    "   current_employee = ''\n",
    "   for employee,hour in employee_work_hours:\n",
    "       if hour > current_hour:\n",
    "          current_hour = hour\n",
    "          current_employee = employee\n",
    "       else:\n",
    "           pass\n",
    "       print('Testing',current_hour)\n",
    "   return (current_employee,current_hour)"
   ]
  },
  {
   "cell_type": "code",
   "execution_count": 35,
   "metadata": {},
   "outputs": [],
   "source": [
    "def unique_list(lst):\n",
    "    seen_number = []\n",
    "    for num in lst:\n",
    "        if num not in seen_number:\n",
    "            print('It is seen_number',seen_number)\n",
    "            seen_number.append(num)\n",
    "    return seen_number"
   ]
  },
  {
   "cell_type": "code",
   "execution_count": 36,
   "metadata": {},
   "outputs": [
    {
     "name": "stdout",
     "output_type": "stream",
     "text": [
      "It is seen_number []\n",
      "It is seen_number [1]\n",
      "It is seen_number [1, 2]\n",
      "It is seen_number [1, 2, 3]\n"
     ]
    },
    {
     "data": {
      "text/plain": [
       "[1, 2, 3, 4]"
      ]
     },
     "execution_count": 36,
     "metadata": {},
     "output_type": "execute_result"
    }
   ],
   "source": [
    "unique_list([1,1,1,1,1,2,2,2,3,3,3,3,4,4,4])"
   ]
  },
  {
   "cell_type": "code",
   "execution_count": 54,
   "metadata": {},
   "outputs": [],
   "source": [
    "def multiply_num(lst):\n",
    "    num = 1\n",
    "    for n in lst:\n",
    "        num = num * n\n",
    "    return num"
   ]
  },
  {
   "cell_type": "code",
   "execution_count": 56,
   "metadata": {},
   "outputs": [
    {
     "data": {
      "text/plain": [
       "-24"
      ]
     },
     "execution_count": 56,
     "metadata": {},
     "output_type": "execute_result"
    }
   ],
   "source": [
    "multiply_num([1,2,3,-4])"
   ]
  },
  {
   "cell_type": "code",
   "execution_count": null,
   "metadata": {},
   "outputs": [],
   "source": []
  }
 ],
 "metadata": {
  "kernelspec": {
   "display_name": "Python 3",
   "language": "python",
   "name": "python3"
  },
  "language_info": {
   "codemirror_mode": {
    "name": "ipython",
    "version": 3
   },
   "file_extension": ".py",
   "mimetype": "text/x-python",
   "name": "python",
   "nbconvert_exporter": "python",
   "pygments_lexer": "ipython3",
   "version": "3.7.3"
  }
 },
 "nbformat": 4,
 "nbformat_minor": 2
}
