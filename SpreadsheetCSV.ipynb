{
 "cells": [
  {
   "cell_type": "code",
   "execution_count": 5,
   "metadata": {},
   "outputs": [],
   "source": [
    "import csv"
   ]
  },
  {
   "cell_type": "code",
   "execution_count": 19,
   "metadata": {},
   "outputs": [
    {
     "name": "stdout",
     "output_type": "stream",
     "text": [
      "<_io.TextIOWrapper name='expense_Advane_import.csv' mode='r' encoding='utf-8'>\n"
     ]
    }
   ],
   "source": [
    "#open the file\n",
    "data = open('expense_Advane_import.csv',encoding='utf-8')\n",
    "print(data)"
   ]
  },
  {
   "cell_type": "code",
   "execution_count": 18,
   "metadata": {},
   "outputs": [
    {
     "name": "stdout",
     "output_type": "stream",
     "text": [
      "<_csv.reader object at 0x7fb6941bef28>\n"
     ]
    }
   ],
   "source": [
    "#csv.reader\n",
    "csv_data = csv.reader(data)\n",
    "print(csv_data)"
   ]
  },
  {
   "cell_type": "code",
   "execution_count": 11,
   "metadata": {},
   "outputs": [],
   "source": [
    "#reformat it into a python object list of lists\n",
    "data_line = list(csv_data)"
   ]
  },
  {
   "cell_type": "code",
   "execution_count": 14,
   "metadata": {},
   "outputs": [
    {
     "data": {
      "text/plain": [
       "['Description',\n",
       " 'Project',\n",
       " 'Purpose of Expense',\n",
       " 'Purpose of Expense',\n",
       " 'Advance Code',\n",
       " 'Product',\n",
       " 'Work Order',\n",
       " 'Total',\n",
       " 'Request By',\n",
       " 'Request Date',\n",
       " 'Unit Price']"
      ]
     },
     "execution_count": 14,
     "metadata": {},
     "output_type": "execute_result"
    }
   ],
   "source": [
    "data_line[0]"
   ]
  },
  {
   "cell_type": "code",
   "execution_count": 15,
   "metadata": {},
   "outputs": [
    {
     "data": {
      "text/plain": [
       "5"
      ]
     },
     "execution_count": 15,
     "metadata": {},
     "output_type": "execute_result"
    }
   ],
   "source": [
    "len(data_line)"
   ]
  },
  {
   "cell_type": "code",
   "execution_count": 21,
   "metadata": {},
   "outputs": [
    {
     "name": "stdout",
     "output_type": "stream",
     "text": [
      "['Description', 'Project', 'Purpose of Expense', 'Purpose of Expense', 'Advance Code', 'Product', 'Work Order', 'Total', 'Request By', 'Request Date', 'Unit Price']\n",
      "['Sub Con charges for cable reinstallation at MC -44 MC - 33 (1.3km x 350000)', 'BTSC-000481-MDY-IU', 'Project Subcon Cost', 'Project Subcon Cost', '000021', 'Allowance', 'NO WORKORDER', '15000', 'Hnin Yee Zin', '07/06/2020', '1']\n",
      "['Phone Bill Charges for April (Operation & Fiber)', 'BTSC-000481-MDY-IU', 'Project General Expenses', 'Project General Expenses', '000021', 'Communication', '', '20000', 'Swan Htet', '30/05/2020', '1']\n"
     ]
    }
   ],
   "source": [
    "for line in data_line[:3]:\n",
    "    print(line)"
   ]
  },
  {
   "cell_type": "code",
   "execution_count": 29,
   "metadata": {},
   "outputs": [
    {
     "name": "stdout",
     "output_type": "stream",
     "text": [
      "Project:  BTSC-000481-MDY-IU Product:  Allowance Total:  15000\n",
      "Project:  BTSC-000481-MDY-IU Product:  Communication Total:  20000\n",
      "Project:  BTSC-000481-MDY-IU Product:  Car Petro Total:  30000\n",
      "Project:  BTSC-000481-MDY-IU Product:  Hotel charges Total:  20000\n"
     ]
    }
   ],
   "source": [
    "for line in data_line[1:]:\n",
    "    print('Project: ',line[1],'Product: ',line[5],'Total: ',line[7])"
   ]
  },
  {
   "cell_type": "code",
   "execution_count": null,
   "metadata": {},
   "outputs": [],
   "source": []
  }
 ],
 "metadata": {
  "kernelspec": {
   "display_name": "Python 3",
   "language": "python",
   "name": "python3"
  },
  "language_info": {
   "codemirror_mode": {
    "name": "ipython",
    "version": 3
   },
   "file_extension": ".py",
   "mimetype": "text/x-python",
   "name": "python",
   "nbconvert_exporter": "python",
   "pygments_lexer": "ipython3",
   "version": "3.7.3"
  }
 },
 "nbformat": 4,
 "nbformat_minor": 2
}
