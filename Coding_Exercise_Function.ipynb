{
 "cells": [
  {
   "cell_type": "code",
   "execution_count": 5,
   "metadata": {},
   "outputs": [
    {
     "ename": "SyntaxError",
     "evalue": "non-default argument follows default argument (<ipython-input-5-3a41b2a7827c>, line 1)",
     "output_type": "error",
     "traceback": [
      "\u001b[0;36m  File \u001b[0;32m\"<ipython-input-5-3a41b2a7827c>\"\u001b[0;36m, line \u001b[0;32m1\u001b[0m\n\u001b[0;31m    def my_func(a=15,b):\u001b[0m\n\u001b[0m               ^\u001b[0m\n\u001b[0;31mSyntaxError\u001b[0m\u001b[0;31m:\u001b[0m non-default argument follows default argument\n"
     ]
    }
   ],
   "source": [
    "def my_func(a,b):\n",
    "    result = sum ((a,b)) * 0.05\n",
    "    return result"
   ]
  },
  {
   "cell_type": "code",
   "execution_count": 10,
   "metadata": {},
   "outputs": [
    {
     "data": {
      "text/plain": [
       "2.5"
      ]
     },
     "execution_count": 10,
     "metadata": {},
     "output_type": "execute_result"
    }
   ],
   "source": [
    "my_func(20,30)"
   ]
  },
  {
   "cell_type": "code",
   "execution_count": 17,
   "metadata": {},
   "outputs": [],
   "source": [
    "def my_arg(**kwargs):\n",
    "    print(kwargs)\n",
    "    if 'fruit' in kwargs:\n",
    "        print (\"I like an {}\".format(kwargs['fruit']))\n",
    "    else:\n",
    "        print (\"I don't like it\")"
   ]
  },
  {
   "cell_type": "code",
   "execution_count": 18,
   "metadata": {},
   "outputs": [
    {
     "name": "stdout",
     "output_type": "stream",
     "text": [
      "{'fruit': 'apple', 'meat': 'chicken'}\n",
      "I like an apple\n"
     ]
    }
   ],
   "source": [
    "my_arg(fruit='apple',meat='chicken')"
   ]
  },
  {
   "cell_type": "code",
   "execution_count": 35,
   "metadata": {},
   "outputs": [],
   "source": [
    "def my_funct(*args,**kwargs):\n",
    "    print(args)\n",
    "    print(kwargs)\n",
    "    if 'food' in kwargs:\n",
    "        print (\"There is {}{}\".format(args[2],kwargs['food']))\n",
    "    else:\n",
    "        print ('Hello world')"
   ]
  },
  {
   "cell_type": "code",
   "execution_count": 38,
   "metadata": {},
   "outputs": [
    {
     "name": "stdout",
     "output_type": "stream",
     "text": [
      "('Mg Mg', 'Myo Myo', 'Su Su')\n",
      "{'fruit': 'orange', 'food': 'cake', 'animal': 'dog'}\n",
      "There is Su Sucake\n"
     ]
    }
   ],
   "source": [
    "my_funct('Mg Mg','Myo Myo','Su Su',fruit='orange',food='cake',animal='dog')"
   ]
  },
  {
   "cell_type": "code",
   "execution_count": 65,
   "metadata": {},
   "outputs": [],
   "source": [
    "def myfunc(string):\n",
    "    result = []\n",
    "    print(len(string))\n",
    "    for data in range(len(string)):\n",
    "        print(data,string[data])\n",
    "        if data % 2 == 0:\n",
    "            result.append(string[data].lower())\n",
    "        else:\n",
    "            result.append(string[data].upper())\n",
    "    return ''.join(result)"
   ]
  },
  {
   "cell_type": "code",
   "execution_count": 66,
   "metadata": {},
   "outputs": [
    {
     "name": "stdout",
     "output_type": "stream",
     "text": [
      "10\n",
      "0 H\n",
      "1 e\n",
      "2 l\n",
      "3 l\n",
      "4 o\n",
      "5 W\n",
      "6 o\n",
      "7 r\n",
      "8 l\n",
      "9 d\n"
     ]
    },
    {
     "data": {
      "text/plain": [
       "'hElLoWoRlD'"
      ]
     },
     "execution_count": 66,
     "metadata": {},
     "output_type": "execute_result"
    }
   ],
   "source": [
    "myfunc('HelloWorld')"
   ]
  },
  {
   "cell_type": "code",
   "execution_count": null,
   "metadata": {},
   "outputs": [],
   "source": []
  }
 ],
 "metadata": {
  "kernelspec": {
   "display_name": "Python 3",
   "language": "python",
   "name": "python3"
  },
  "language_info": {
   "codemirror_mode": {
    "name": "ipython",
    "version": 3
   },
   "file_extension": ".py",
   "mimetype": "text/x-python",
   "name": "python",
   "nbconvert_exporter": "python",
   "pygments_lexer": "ipython3",
   "version": "3.7.3"
  }
 },
 "nbformat": 4,
 "nbformat_minor": 2
}
