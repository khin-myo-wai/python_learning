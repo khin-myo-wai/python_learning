{
 "cells": [
  {
   "cell_type": "code",
   "execution_count": 4,
   "metadata": {},
   "outputs": [
    {
     "name": "stdout",
     "output_type": "stream",
     "text": [
      "Written content in the file successfully\n",
      "I always run whatever it is!\n"
     ]
    }
   ],
   "source": [
    "try:\n",
    "   fh = open(\"testfile\", \"w\")\n",
    "   fh.write(\"This is my test file for exception handling!!\")\n",
    "except IOError:\n",
    "   print (\"Error: can\\'t find file or read data\")\n",
    "else:\n",
    "   print (\"Written content in the file successfully\")\n",
    "   fh.close()\n",
    "finally:\n",
    "    print(\"I always run whatever it is!\")"
   ]
  },
  {
   "cell_type": "code",
   "execution_count": 6,
   "metadata": {},
   "outputs": [],
   "source": [
    "def ask_for_int():\n",
    "    while True:\n",
    "        try:\n",
    "            result = int(input(\"Please enter the number: \"))\n",
    "        except:\n",
    "            print(\"This is not a number!\")\n",
    "            continue\n",
    "        else:\n",
    "            print(\"Yes!Thank you\")\n",
    "            break\n",
    "        finally:\n",
    "            print(\"I always run whatever it is!\")"
   ]
  },
  {
   "cell_type": "code",
   "execution_count": 7,
   "metadata": {},
   "outputs": [
    {
     "name": "stdout",
     "output_type": "stream",
     "text": [
      "Please enter the number: g\n",
      "This is not a number!\n",
      "I always run whatever it is!\n",
      "Please enter the number: v\n",
      "This is not a number!\n",
      "I always run whatever it is!\n",
      "Please enter the number: t\n",
      "This is not a number!\n",
      "I always run whatever it is!\n",
      "Please enter the number: 125\n",
      "Yes!Thank you\n",
      "I always run whatever it is!\n"
     ]
    }
   ],
   "source": [
    "ask_for_int()"
   ]
  },
  {
   "cell_type": "code",
   "execution_count": null,
   "metadata": {},
   "outputs": [],
   "source": []
  }
 ],
 "metadata": {
  "kernelspec": {
   "display_name": "Python 3",
   "language": "python",
   "name": "python3"
  },
  "language_info": {
   "codemirror_mode": {
    "name": "ipython",
    "version": 3
   },
   "file_extension": ".py",
   "mimetype": "text/x-python",
   "name": "python",
   "nbconvert_exporter": "python",
   "pygments_lexer": "ipython3",
   "version": "3.7.3"
  }
 },
 "nbformat": 4,
 "nbformat_minor": 2
}
